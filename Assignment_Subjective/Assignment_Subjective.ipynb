{
 "cells": [
  {
   "cell_type": "code",
   "execution_count": 18,
   "metadata": {},
   "outputs": [
    {
     "name": "stdout",
     "output_type": "stream",
     "text": [
      "Enter the string to change the first letter\n",
      "prospect\n"
     ]
    },
    {
     "data": {
      "text/plain": [
       "'pros$ect'"
      ]
     },
     "execution_count": 18,
     "metadata": {},
     "output_type": "execute_result"
    }
   ],
   "source": [
    "#1\n",
    "#'''Write a Python program to get the string from the given string where all the occurrence of its first char has been \n",
    "#changed to '$,' except first char itself? Sample String: 'prospect' Expected Result : 'pros$ect''''\n",
    "\n",
    "print(\"Enter the string to change the first letter\")\n",
    "a=input()\n",
    "b=list(a)\n",
    "for i in range(len(b)):\n",
    "    for j in range(len(b[:i])):\n",
    "        if b[i]==b[j]:\n",
    "            b[i]='$'\n",
    "            \n",
    "''.join(map(str, b)) \n"
   ]
  },
  {
   "cell_type": "code",
   "execution_count": 32,
   "metadata": {},
   "outputs": [
    {
     "name": "stdout",
     "output_type": "stream",
     "text": [
      "get the single string:\n",
      "bala,chandra\n"
     ]
    },
    {
     "data": {
      "text/plain": [
       "'chandra bala'"
      ]
     },
     "execution_count": 32,
     "metadata": {},
     "output_type": "execute_result"
    }
   ],
   "source": [
    "#2 Write a Python program to get the single string from the two given strings, \n",
    "#and separated by the space and swap the first two characters of each string?\n",
    "print('get the single string:')\n",
    "a=input()\n",
    "b=a.split(',')\n",
    "\n",
    "c=[]\n",
    "for i in range(len(b),0,-1):\n",
    "    c.append(b[i-1])\n",
    "c\n",
    "' '.join(map(str, c)) "
   ]
  },
  {
   "cell_type": "code",
   "execution_count": 79,
   "metadata": {},
   "outputs": [
    {
     "name": "stdout",
     "output_type": "stream",
     "text": [
      "balaing\n",
      "balingly\n"
     ]
    }
   ],
   "source": [
    "#3.Write the Python program to add 'ing' at the end of the given string (length of the string should be at least 3). \n",
    "#If given string already ends with 'ing,'then add 'ly' instead. If string length of the given string is less than 3, \n",
    "#leave it unchanged?\n",
    "\n",
    "def add_stringly(a):\n",
    "    length=len(a)\n",
    "    if length>2:\n",
    "        if a[-3:]=='ing':\n",
    "            a+='ly'\n",
    "        else:\n",
    "            a+='ing'\n",
    "    return a\n",
    "print(add_stringly('bala'))\n",
    "print(add_stringly('baling'))"
   ]
  },
  {
   "cell_type": "code",
   "execution_count": 76,
   "metadata": {},
   "outputs": [
    {
     "data": {
      "text/plain": [
       "4"
      ]
     },
     "execution_count": 76,
     "metadata": {},
     "output_type": "execute_result"
    }
   ],
   "source": [
    "len('bala')"
   ]
  },
  {
   "cell_type": "code",
   "execution_count": 71,
   "metadata": {},
   "outputs": [
    {
     "name": "stdout",
     "output_type": "stream",
     "text": [
      "The lyrics are good!\n",
      "The lyrics are poor!\n"
     ]
    }
   ],
   "source": [
    "#4.Write the Python program to find the first appearance of the substring 'not' and 'poor' from the given string,\n",
    "#if 'not' follows the 'poor', replace the whole 'not'...' poor' substring with 'good'.Return the resulting string.\n",
    "def not_poor(string):\n",
    "    snot=string.find('not')\n",
    "    spoor=string.find('poor')\n",
    "    \n",
    "    if spoor>snot and snot>0 and spoor>0:\n",
    "        string=string.replace(string[snot:(spoor+4)],'good')\n",
    "        return string\n",
    "    else :\n",
    "        return string\n",
    "print(not_poor('The lyrics are not that poor!'))\n",
    "print(not_poor('The lyrics are poor!'))\n",
    "        "
   ]
  },
  {
   "cell_type": "code",
   "execution_count": 84,
   "metadata": {},
   "outputs": [
    {
     "name": "stdout",
     "output_type": "stream",
     "text": [
      "blcada\n",
      "acegi\n"
     ]
    }
   ],
   "source": [
    "#Q5. Write the Python program to remove the characters which have odd index values of a given string.\n",
    "def odd_remove(a):\n",
    "    a=a[0::2]\n",
    "    return a\n",
    "print(odd_remove('balachandra'))\n",
    "print(odd_remove('abcdefghij'))"
   ]
  },
  {
   "cell_type": "code",
   "execution_count": 94,
   "metadata": {},
   "outputs": [
    {
     "name": "stdout",
     "output_type": "stream",
     "text": [
      "anananan\n",
      "eseseses\n"
     ]
    }
   ],
   "source": [
    "#Q.6 Write a Python function to get a string made of 4 copies of the last two characters of a specified string\n",
    "#(length must be at least 2).\n",
    "def insert_end(a):\n",
    "    substr=a[-2:]\n",
    "    return substr*4\n",
    "print(insert_end('balachan'))\n",
    "print(insert_end('Exercises'))"
   ]
  },
  {
   "cell_type": "code",
   "execution_count": 96,
   "metadata": {},
   "outputs": [
    {
     "name": "stdout",
     "output_type": "stream",
     "text": [
      "ipy\n",
      "pyth\n"
     ]
    }
   ],
   "source": [
    "#Q7. Write the python function to get a string made of its first three characters of a specified string.\n",
    "#If the length of the string is less than 3 then return the original string\n",
    "def first_three(a):\n",
    "    len_a=len(a)\n",
    "    if len_a<3:\n",
    "        return a\n",
    "    else:\n",
    "        return a[0:4]\n",
    "print(first_three('ipy'))\n",
    "print(first_three('python'))"
   ]
  },
  {
   "cell_type": "code",
   "execution_count": 110,
   "metadata": {},
   "outputs": [
    {
     "name": "stdout",
     "output_type": "stream",
     "text": [
      "2.24\n",
      "1.23\n"
     ]
    }
   ],
   "source": [
    "#Q8. Write the python program to print the following floating numbers up to 2 decimal places?\n",
    "a=2.23561\n",
    "b=1.234567\n",
    "print(\"{:0.2f}\".format(a))\n",
    "print(\"{:0.2f}\".format(b))"
   ]
  },
  {
   "cell_type": "code",
   "execution_count": 120,
   "metadata": {},
   "outputs": [
    {
     "name": "stdout",
     "output_type": "stream",
     "text": [
      "Formatted Number with percentage: 25.00%\n"
     ]
    }
   ],
   "source": [
    "#Q9. Write the Python program to format a number with a percentage?\n",
    "x=.25\n",
    "print(\"Formatted Number with percentage: \"+\"{:.2%}\".format(x));\n",
    "#Use str. format() to format a number as a percentage"
   ]
  },
  {
   "cell_type": "code",
   "execution_count": 122,
   "metadata": {},
   "outputs": [
    {
     "data": {
      "text/plain": [
       "4"
      ]
     },
     "execution_count": 122,
     "metadata": {},
     "output_type": "execute_result"
    }
   ],
   "source": [
    "#Q10. Write the Python program to count occurrences of a substring in a String?\n",
    "def occur_str(str1,substr1):\n",
    "    b=str1.count(substr1)\n",
    "    return b\n",
    "occur_str('bala chandr bala bala bala','bala')"
   ]
  },
  {
   "cell_type": "code",
   "execution_count": 127,
   "metadata": {},
   "outputs": [
    {
     "name": "stdout",
     "output_type": "stream",
     "text": [
      "o 4\n",
      "e 3\n",
      "t 2\n",
      "h 2\n",
      "u 2\n",
      "r 2\n"
     ]
    }
   ],
   "source": [
    "#Q11. Write the Python program to count repeated characters in a string.\n",
    "import collections\n",
    "str1 = 'thequickbrownfoxjumpsoverthelazydog'\n",
    "d = collections.defaultdict(int)\n",
    "for i in str1:\n",
    "    d[i]+=1\n",
    "for i in sorted(d,key=d.get,reverse=True):\n",
    "    if d[i]>1:\n",
    "        print('%s %d' % (i, d[i]))"
   ]
  },
  {
   "cell_type": "code",
   "execution_count": null,
   "metadata": {},
   "outputs": [],
   "source": []
  }
 ],
 "metadata": {
  "kernelspec": {
   "display_name": "Python 3",
   "language": "python",
   "name": "python3"
  },
  "language_info": {
   "codemirror_mode": {
    "name": "ipython",
    "version": 3
   },
   "file_extension": ".py",
   "mimetype": "text/x-python",
   "name": "python",
   "nbconvert_exporter": "python",
   "pygments_lexer": "ipython3",
   "version": "3.7.4"
  }
 },
 "nbformat": 4,
 "nbformat_minor": 2
}
