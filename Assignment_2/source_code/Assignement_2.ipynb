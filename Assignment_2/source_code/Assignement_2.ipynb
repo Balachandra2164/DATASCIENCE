{
 "cells": [
  {
   "cell_type": "markdown",
   "metadata": {},
   "source": [
    "Task-1"
   ]
  },
  {
   "cell_type": "code",
   "execution_count": 13,
   "metadata": {},
   "outputs": [
    {
     "name": "stdout",
     "output_type": "stream",
     "text": [
      "Sum on list [10,20,30] using custom reduce function 60\n"
     ]
    }
   ],
   "source": [
    "'''1.1 Write a Python Program to implement your own myreduce() function which works exactly like\n",
    "Python's built-in function reduce() '''\n",
    "#reduce function produce single result\n",
    "def myreduce(anyfunc,seq):\n",
    "    result=seq[0]\n",
    "    for i in seq[1:]:\n",
    "        result=anyfunc(result,i)\n",
    "    return result\n",
    "        \n",
    "\n",
    "def sum(x,y): \n",
    "    return x + y\n",
    "\n",
    "print (\"Sum on list [10,20,30] using custom reduce function \"   + str(myreduce(sum, [10,20,30])) )\n",
    "        \n",
    "    "
   ]
  },
  {
   "cell_type": "code",
   "execution_count": 15,
   "metadata": {},
   "outputs": [
    {
     "name": "stdout",
     "output_type": "stream",
     "text": [
      "Filter only positive Integers on list [0,1,-2,3,4,5] using custom filter function[True, True, True, True]\n"
     ]
    }
   ],
   "source": [
    "'''1.2 Write a Python program to implement your own myfilter() function which works exactly like\n",
    "Python's built-in function filter()'''\n",
    "def myfilter(anyfunc,seq):\n",
    "    result=[]\n",
    "    for i in seq:\n",
    "        if anyfunc(i):\n",
    "            result.append(anyfunc(i))\n",
    "    return result\n",
    "\n",
    "# test myfilter function\n",
    "def ispositive(x):\n",
    "    if (x <= 0): \n",
    "        return False \n",
    "    else: \n",
    "        return True\n",
    "    \n",
    "print (\"Filter only positive Integers on list [0,1,-2,3,4,5] using custom filter function\"  + \n",
    "       str(myfilter(ispositive, [0,1,-2,3,4,5])))\n",
    "        "
   ]
  },
  {
   "cell_type": "code",
   "execution_count": 17,
   "metadata": {},
   "outputs": [
    {
     "data": {
      "text/plain": [
       "['x', 'xx', 'xxx', 'xxxx', 'y', 'yy', 'yyy', 'yyyy', 'z', 'zz', 'zzz', 'zzzz']"
      ]
     },
     "execution_count": 17,
     "metadata": {},
     "output_type": "execute_result"
    }
   ],
   "source": [
    "'''2.list comprehension'''\n",
    "'''['x', 'xx', 'xxx', 'xxxx', 'y', 'yy', 'yyy', 'yyyy', 'z', 'zz', 'zzz', 'zzzz']\n",
    "'''\n",
    "x=['x','y','z']\n",
    "[i*j for i in x for j in range(1,5)]\n"
   ]
  },
  {
   "cell_type": "code",
   "execution_count": 18,
   "metadata": {},
   "outputs": [
    {
     "data": {
      "text/plain": [
       "['x', 'y', 'z', 'xx', 'yy', 'zz', 'xxx', 'yyy', 'zzz', 'xxxx', 'yyyy', 'zzzz']"
      ]
     },
     "execution_count": 18,
     "metadata": {},
     "output_type": "execute_result"
    }
   ],
   "source": [
    "'''['x', 'y', 'z', 'xx', 'yy', 'zz', 'xxx', 'yyy', 'zzz', 'xxxx', 'yyyy', 'zzzz']'''\n",
    "[i*j for i in range(1,5) for j in x]"
   ]
  },
  {
   "cell_type": "code",
   "execution_count": 19,
   "metadata": {},
   "outputs": [
    {
     "data": {
      "text/plain": [
       "[[2], [3], [4], [3], [4], [5], [4], [5], [6]]"
      ]
     },
     "execution_count": 19,
     "metadata": {},
     "output_type": "execute_result"
    }
   ],
   "source": [
    "#[[2], [3], [4], [3], [4], [5], [4], [5], [6]]\n",
    "l=[2,3,4]\n",
    "import functools\n",
    "functools.reduce(lambda c,d:c+d,list(map(lambda x:[[x],[x+1],[x+2]],l)))\n",
    "\n"
   ]
  },
  {
   "cell_type": "code",
   "execution_count": 20,
   "metadata": {},
   "outputs": [
    {
     "data": {
      "text/plain": [
       "[[2, 3, 4, 5], [3, 4, 5, 6], [4, 5, 6, 7], [5, 6, 7, 8]]"
      ]
     },
     "execution_count": 20,
     "metadata": {},
     "output_type": "execute_result"
    }
   ],
   "source": [
    "#[[2, 3, 4, 5], [3, 4, 5, 6], [4, 5, 6, 7], [5, 6, 7, 8]]\n",
    "l=[2,3,4,5]\n",
    "import functools\n",
    "functools.reduce(lambda c,d:c+d,list(map(lambda x:[[x,x+1,x+2,x+3]],l)))\n"
   ]
  },
  {
   "cell_type": "code",
   "execution_count": 21,
   "metadata": {},
   "outputs": [
    {
     "data": {
      "text/plain": [
       "[(1, 1), (2, 1), (3, 1), (1, 2), (2, 2), (3, 2), (1, 3), (2, 3), (3, 3)]"
      ]
     },
     "execution_count": 21,
     "metadata": {},
     "output_type": "execute_result"
    }
   ],
   "source": [
    "#[(1, 1), (2, 1), (3, 1), (1, 2), (2, 2), (3, 2), (1, 3), (2, 3), (3, 3)]\n",
    "l=[1,2,3]\n",
    "functools.reduce(lambda c,d:c+d,list(map(lambda a:[(1,a),(2,a),(3,a)],l)))"
   ]
  },
  {
   "cell_type": "code",
   "execution_count": 22,
   "metadata": {
    "scrolled": true
   },
   "outputs": [
    {
     "name": "stdout",
     "output_type": "stream",
     "text": [
      "how many words you want to give\n",
      "3\n",
      "bala\n",
      "chandra\n",
      "balachandra\n"
     ]
    },
    {
     "data": {
      "text/plain": [
       "'balachandra'"
      ]
     },
     "execution_count": 22,
     "metadata": {},
     "output_type": "execute_result"
    }
   ],
   "source": [
    "#3.Implement a function longestWord() that takes a list of words and returns the longest one.\n",
    "print('how many words you want to give')\n",
    "lis=[]\n",
    "num=int(input())\n",
    "for i in range(num):\n",
    "    lis.append(input())\n",
    "lis\n",
    "def longestword(lis):\n",
    "    ls=[]\n",
    "    for i in lis:\n",
    "        ls.append((len(i),i))\n",
    "    ls.sort()\n",
    "    return ls[-1][1]\n",
    "longestword(lis)\n",
    "                              "
   ]
  },
  {
   "cell_type": "markdown",
   "metadata": {},
   "source": [
    "Task-2"
   ]
  },
  {
   "cell_type": "code",
   "execution_count": 23,
   "metadata": {},
   "outputs": [],
   "source": [
    "'''1.1 Write a Python Program(with class concepts) to find the area of the triangle using the below\n",
    "formula.\n",
    "area = (s*(s-a)*(s-b)*(s-c)) ** 0.5\n",
    "Function to take the length of the sides of triangle from user should be defined in the parent\n",
    "class and function to calculate the area should be defined in subclass.\n",
    "'''\n",
    "class Triangle:\n",
    "    def __init__(self,length_a,length_b,length_c):\n",
    "        self.length_a=length_a\n",
    "        self.length_b=length_b\n",
    "        self.length_c=length_c\n",
    "    def sidesoftriangle(self):\n",
    "        return \"These are sides of the traiangle: %f,%f,%f\"%(self.length_a,self.length_b,self_length_c)\n",
    "class Area(Triangle):\n",
    "    def __init__(self,*args):\n",
    "        super(Area,self).__init(*args)\n",
    "    def Area(self):\n",
    "        s=float((self.length_a+self.length_b,self.length_c)/3)\n",
    "        area=float((s*(s-self.lenth_a)*(s-self.length_b)*(s-self.length_c)) ** 0.5)\n",
    "        print(\"Area%f\"%area)\n",
    "        "
   ]
  },
  {
   "cell_type": "code",
   "execution_count": 24,
   "metadata": {},
   "outputs": [
    {
     "name": "stdout",
     "output_type": "stream",
     "text": [
      "How many words you want to enter in the list:\n",
      "3\n",
      "Enter the list of words:\n",
      "bala\n",
      "chandra\n",
      "b\n",
      "Provide the number\n",
      "3\n",
      "Below are the list of the list of words that are longer than the length provided\n",
      "['bala', 'chandra']\n"
     ]
    }
   ],
   "source": [
    "'''1.2 Write a function filter_long_words() that takes a list of words and an integer n and returns the list\n",
    "of words that are longer than n.'''\n",
    "def filter_long_words(number):\n",
    "    k=[]\n",
    "    print('Enter the list of words:')\n",
    "    for i in range (number):\n",
    "        k.append(input())\n",
    "    print('Provide the number')\n",
    "    u=int(input())\n",
    "    \n",
    "    wordlist=[x.strip() for x in k if len(x.strip())>u]\n",
    "    if len(wordlist)>0:\n",
    "            print(\"Below are the list of the list of words that are longer than the length provided\")\n",
    "            print(wordlist)\n",
    "    else:\n",
    "        print(\"No words are longer length you have provided\")\n",
    "print('How many words you want to enter in the list:')\n",
    "a=int(input())\n",
    "#print('Please provide the number ')\n",
    "filter_long_words(a)"
   ]
  },
  {
   "cell_type": "code",
   "execution_count": 25,
   "metadata": {},
   "outputs": [
    {
     "name": "stdout",
     "output_type": "stream",
     "text": [
      "Enter the list of words:\n",
      "bala\n",
      "chandra\n",
      "balachandra\n",
      "Below are the length the integers\n",
      "[4, 7, 11]\n"
     ]
    }
   ],
   "source": [
    "'''2.1 Write a Python program using function concept that maps list of words into a list of integers\n",
    "representing the lengths of the corresponding words'''\n",
    "def map_list_to_len(num):\n",
    "    print('Enter the list of words:')\n",
    "    k=[input() for i in range(num)]\n",
    "    print('Below are the length the integers')\n",
    "    y=[len(r) for r in k ]\n",
    "    print(y)\n",
    "\n",
    "map_list_to_len(3)\n",
    "           "
   ]
  },
  {
   "cell_type": "code",
   "execution_count": 27,
   "metadata": {},
   "outputs": [
    {
     "name": "stdout",
     "output_type": "stream",
     "text": [
      "enter character to check whether it is vowel or not\n",
      "I\n"
     ]
    },
    {
     "data": {
      "text/plain": [
       "True"
      ]
     },
     "execution_count": 27,
     "metadata": {},
     "output_type": "execute_result"
    }
   ],
   "source": [
    "'''2.2 Write a Python function which takes a character (i.e. a string of length 1) and returns True if it is\n",
    "a vowel, False otherwise'''\n",
    "def fun(variable):\n",
    "    lett=['a','e','i','o','u']\n",
    "    if (variable.lower() in lett):\n",
    "        return True\n",
    "    else:\n",
    "        return False\n",
    "    \n",
    "print('enter character to check whether it is vowel or not')\n",
    "seq=input()\n",
    "fun(seq)\n"
   ]
  },
  {
   "cell_type": "code",
   "execution_count": null,
   "metadata": {},
   "outputs": [],
   "source": []
  },
  {
   "cell_type": "code",
   "execution_count": 1,
   "metadata": {},
   "outputs": [],
   "source": []
  },
  {
   "cell_type": "code",
   "execution_count": null,
   "metadata": {},
   "outputs": [],
   "source": []
  },
  {
   "cell_type": "code",
   "execution_count": null,
   "metadata": {},
   "outputs": [],
   "source": []
  }
 ],
 "metadata": {
  "kernelspec": {
   "display_name": "Python 3",
   "language": "python",
   "name": "python3"
  },
  "language_info": {
   "codemirror_mode": {
    "name": "ipython",
    "version": 3
   },
   "file_extension": ".py",
   "mimetype": "text/x-python",
   "name": "python",
   "nbconvert_exporter": "python",
   "pygments_lexer": "ipython3",
   "version": "3.7.4"
  }
 },
 "nbformat": 4,
 "nbformat_minor": 2
}
