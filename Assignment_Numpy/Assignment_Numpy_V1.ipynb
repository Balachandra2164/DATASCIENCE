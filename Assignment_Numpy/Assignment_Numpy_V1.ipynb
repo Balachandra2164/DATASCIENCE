{
 "cells": [
  {
   "cell_type": "code",
   "execution_count": 22,
   "metadata": {},
   "outputs": [],
   "source": [
    "import numpy as np"
   ]
  },
  {
   "cell_type": "code",
   "execution_count": 23,
   "metadata": {},
   "outputs": [],
   "source": [
    "'''This problem help you to find the moving average in arrange over window'''\n",
    "def seq(n,k):\n",
    "    for i in range(len(n)-k+1):\n",
    "            print('Y%s'%str(i+1),np.sum(n[i:k+i])/k)\n"
   ]
  },
  {
   "cell_type": "code",
   "execution_count": 24,
   "metadata": {},
   "outputs": [
    {
     "name": "stdout",
     "output_type": "stream",
     "text": [
      "Title:To find moving average in an array over window\n",
      "how many elements you want to enter\n",
      "13\n",
      "Please enter the numbers only\n",
      "3\n",
      "5\n",
      "7\n",
      "2\n",
      "8\n",
      "10\n",
      "11\n",
      "65\n",
      "72\n",
      "81\n",
      "99\n",
      "100\n",
      "150\n",
      "Please enter the window size\n",
      "3\n",
      "Y1 5.0\n",
      "Y2 4.666666666666667\n",
      "Y3 5.666666666666667\n",
      "Y4 6.666666666666667\n",
      "Y5 9.666666666666666\n",
      "Y6 28.666666666666668\n",
      "Y7 49.333333333333336\n",
      "Y8 72.66666666666667\n",
      "Y9 84.0\n",
      "Y10 93.33333333333333\n",
      "Y11 116.33333333333333\n"
     ]
    }
   ],
   "source": [
    "print(\"Title:To find moving average in an array over window\")\n",
    "print('how many elements you want to enter')\n",
    "a=int(input())\n",
    "n1=[]\n",
    "print('Please enter the numbers only')\n",
    "for i in range(a):\n",
    "    n1.append(int(input()))\n",
    "print('Please enter the window size')\n",
    "k=int(input())\n",
    "n=np.array(n1)\n",
    "seq(n,k)"
   ]
  }
 ],
 "metadata": {
  "kernelspec": {
   "display_name": "Python 3",
   "language": "python",
   "name": "python3"
  },
  "language_info": {
   "codemirror_mode": {
    "name": "ipython",
    "version": 3
   },
   "file_extension": ".py",
   "mimetype": "text/x-python",
   "name": "python",
   "nbconvert_exporter": "python",
   "pygments_lexer": "ipython3",
   "version": "3.7.4"
  }
 },
 "nbformat": 4,
 "nbformat_minor": 2
}
